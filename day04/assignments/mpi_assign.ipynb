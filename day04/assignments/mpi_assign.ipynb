{
 "cells": [
  {
   "cell_type": "markdown",
   "id": "dae8c4a2",
   "metadata": {},
   "source": [
    "## Exercise 1 Hello World\n",
    "\n",
    "1. Write an MPI program displaying the number of processes used for the execution and the rank of each process.\n",
    "2. Test the programs obtained with different numbers of threads for the parallel program.\n",
    "\n",
    "**Output Example**\n",
    "```shell\n",
    "Hello from the rank 2 process\n",
    "Hello from the rank 0 process\n",
    "Hello from the rank 3 process\n",
    "Hello from the rank 1 process\n",
    "Parallel execution of hello_world with 4 process\n",
    "```\n",
    "*Note that the output order maybe different*"
   ]
  },
  {
   "cell_type": "code",
   "execution_count": 3,
   "id": "4ef7e581",
   "metadata": {},
   "outputs": [
    {
     "name": "stdout",
     "output_type": "stream",
     "text": [
      "Writing hello.py\n"
     ]
    }
   ],
   "source": [
    "%%file hello.py\n",
    "\n",
    "\n",
    "from mpi4py import MPI\n",
    "\n",
    "comm = MPI.COMM_WORLD\n",
    "taille = comm.Get_size()\n",
    "rang = comm.Get_rank()\n",
    "print(f'Hello from the rank {rang} process')\n",
    "if rang ==taille-1:\n",
    "    print(f'Parallel execution of hello_world with {taille} process')"
   ]
  },
  {
   "cell_type": "code",
   "execution_count": 90,
   "id": "bac76c8e",
   "metadata": {
    "scrolled": true
   },
   "outputs": [
    {
     "name": "stdout",
     "output_type": "stream",
     "text": [
      "Hello from the rank 0 process\r\n",
      "Hello from the rank 1 process\r\n",
      "Parallel execution of hello_world with 2 process\r\n"
     ]
    }
   ],
   "source": [
    "# enter command for compile and run the program\n",
    "!mpirun -n 2 python3 hello.py"
   ]
  },
  {
   "cell_type": "markdown",
   "id": "ebddd204",
   "metadata": {},
   "source": [
    "## Exercise 2 Sharing Data \n",
    "\n",
    "A common need is for one process to get data from the user, either by reading from the terminal or command line arguments, and then to distribute this information to all other processors.\n",
    "\n",
    "Write a program that reads an integer value from the terminal and distributes the value to all of the MPI processes. Each process should print out its rank and the value it received. Values should be read until a negative integer is given as input.\n",
    "\n",
    "You may want to use these MPI routines in your solution:\n",
    "`Get_rank` `Bcast` \n",
    "\n",
    "**Output Example**\n",
    "```shell\n",
    "10\n",
    "Process 0 got 10\n",
    "Process 1 got 10\n",
    "```"
   ]
  },
  {
   "cell_type": "code",
   "execution_count": 6,
   "id": "c2526456",
   "metadata": {},
   "outputs": [
    {
     "name": "stdout",
     "output_type": "stream",
     "text": [
      "Overwriting sharing.py\n"
     ]
    }
   ],
   "source": [
    " %%file sharing.py\n",
    " # write your program here\n",
    "\n",
    " from mpi4py import MPI\n",
    "k = int(input('give a number: '))\n",
    "while k > 0:\n",
    "    comm = MPI.COMM_WORLD\n",
    "    #taille = comm.Get_size()\n",
    "    rang = comm.Get_rank()\n",
    "    if rang == 0:\n",
    "        sendbuf = k\n",
    "    else:\n",
    "        sendbuf = None\n",
    "    recvbuf = comm.bcast(sendbuf, root=0)\n",
    "    print(f'Process {rang} got {recvbuf}')\n",
    "    k = int(input('give a number: '))\n",
    "    \n",
    "\n"
   ]
  },
  {
   "cell_type": "code",
   "execution_count": null,
   "id": "09b05957",
   "metadata": {},
   "outputs": [],
   "source": [
    "# enter command for compile and run the program\n",
    "#!mpirun -n 1 python3 sharing.py"
   ]
  },
  {
   "cell_type": "markdown",
   "id": "2dff4e05",
   "metadata": {},
   "source": [
    "## Exercise 3 Sending in a ring (broadcast by ring)\n",
    "\n",
    "Write a program that takes data from process zero and sends it to all of the other processes by sending it in a ring. That is, process i should receive the data and send it to process i+1, until the last process is reached.\n",
    "Assume that the data consists of a single integer. Process zero reads the data from the user.\n",
    "![](../data/ring.gif)\n",
    "\n",
    "You may want to use these MPI routines in your solution:\n",
    "`Send` `Recv` "
   ]
  },
  {
   "cell_type": "code",
   "execution_count": 22,
   "id": "4d2ac60d",
   "metadata": {
    "scrolled": true
   },
   "outputs": [
    {
     "name": "stdout",
     "output_type": "stream",
     "text": [
      "Overwriting Partage.py\n"
     ]
    }
   ],
   "source": [
    "%%file Partage.py\n",
    "\n",
    "from mpi4py import MPI\n",
    "k = int(input('give a number: '))\n",
    "#k = 10\n",
    "comm = MPI.COMM_WORLD\n",
    "taille = comm.Get_size()\n",
    "rang = comm.Get_rank()\n",
    "for i in range(taille-1):\n",
    "    comm.send(k,dest=i+1,tag=99)\n",
    "    recvbuf = comm.recv(source = i,tag=99)\n",
    "    print(f'process {i+1} received {recvbuf} by process {i}')\n",
    "    \n"
   ]
  },
  {
   "cell_type": "code",
   "execution_count": 23,
   "id": "c012af07",
   "metadata": {},
   "outputs": [],
   "source": [
    "# enter command for compile and run the program\n",
    "#!mpirun -n 2 Partage.py"
   ]
  },
  {
   "cell_type": "code",
   "execution_count": null,
   "id": "6e5ed137",
   "metadata": {},
   "outputs": [],
   "source": []
  },
  {
   "cell_type": "markdown",
   "id": "03907b1e",
   "metadata": {},
   "source": [
    "## Exercise 4 Matrix vector product\n",
    "\n",
    "1. Use the `MatrixVectorMult.py` file to implement the MPI version of matrix vector multiplication.\n",
    "2. Process 0 compares the result with the `dot` product.\n",
    "3. Plot the scalability of your implementation. \n",
    "\n",
    "**Output Example**\n",
    "```shell\n",
    "CPU time of parallel multiplication using 2 processes is  174.923446\n",
    "The error comparing to the dot product is : 1.4210854715202004e-14\n",
    "```"
   ]
  },
  {
   "cell_type": "code",
   "execution_count": 28,
   "id": "2b2a95e0",
   "metadata": {},
   "outputs": [
    {
     "name": "stdout",
     "output_type": "stream",
     "text": [
      "Overwriting MatrixVectorMult_V0.py\n"
     ]
    }
   ],
   "source": [
    "%%file MatrixVectorMult_V0.py\n",
    "import time \n",
    "import numpy as np\n",
    "from scipy.sparse import lil_matrix\n",
    "from numpy.random import rand, seed\n",
    "from numba import njit\n",
    "from mpi4py import MPI\n",
    "\n",
    "COMM = MPI.COMM_WORLD\n",
    "nbproc = COMM.Get_size()\n",
    "RANK = COMM.Get_rank()\n",
    "\n",
    "seed(42)\n",
    "\n",
    "# function générique pour le produit matrice vecteur\n",
    "def matVectMult(A, b, C):\n",
    "    \n",
    "    row, col = A.shape\n",
    "    for i in range(row):\n",
    "        a = A[i]\n",
    "        for j in range(col):\n",
    "            C[i] += a[j] * b[j]\n",
    "\n",
    "    return 0\n",
    "\n",
    "\n",
    "# créons la matrice A et le vecteur b\n",
    "SIZE = 1000\n",
    "local_size = SIZE // nbproc\n",
    "\n",
    "\n",
    "# counts est la liste contenant les blocks de chaque  proc\n",
    "proc_block = local_size * SIZE\n",
    "counts =  [proc_block for i in range(nbproc)]\n",
    "\n",
    "if RANK == 0:\n",
    "    A = lil_matrix((SIZE, SIZE))\n",
    "    A[0, :100] = rand(100)\n",
    "    A[1, 100:200] = A[0, :100]\n",
    "    A.setdiag(rand(SIZE))\n",
    "    A = A.toarray()\n",
    "    b = rand(SIZE)\n",
    "else :\n",
    "    A = None\n",
    "    b = None\n",
    "\n",
    "## on envoie une copie de b sur chaque proc et on distribue une partie de  A \n",
    "## à chaque processus\n",
    "\n",
    "localMatrix = np.empty((local_size, SIZE), dtype = np.float64)\n",
    "b = COMM.bcast(b, root = 0)\n",
    "\n",
    "COMM.Scatterv([A, counts, MPI.DOUBLE], localMatrix, root = 0)\n",
    "\n",
    "## Au niveau de chaque processus on fait un produit entre la matrice locale et b\n",
    "localC = np.zeros(local_size)\n",
    "start = MPI.Wtime()\n",
    "matVectMult(localMatrix, b, localC)\n",
    "stop = MPI.Wtime()\n",
    "if RANK == 0:\n",
    "    print(\"\\n\\n CPU time of parallel multiplication using\", nbproc,\"processes is \", (stop - start)*1000)\n",
    "\n",
    "\n",
    "## On rassemble maintenant les résultats obtenus au niveau de chaque processus\n",
    "\n",
    "sendcounts = [local_size for i in range(nbproc)] \n",
    "if RANK == 0: \n",
    "    C = np.empty(SIZE, dtype = np.float64)\n",
    "else :\n",
    "    C = None\n",
    "\n",
    "# rassemblement des résultats dans C\n",
    "COMM.Gatherv(localC,[C, sendcounts, MPI.DOUBLE], root = 0)\n",
    "\n",
    "if RANK == 0 :\n",
    "    C_ = A.dot(b)\n",
    "    print(\"The error comparing to the dot product is :\", np.max(C_ - C))"
   ]
  },
  {
   "cell_type": "code",
   "execution_count": 30,
   "id": "b25f89a6",
   "metadata": {},
   "outputs": [
    {
     "name": "stdout",
     "output_type": "stream",
     "text": [
      "\r\n",
      "\r\n",
      " CPU time of parallel multiplication using 2 processes is  391.314296\r\n",
      "The error comparing to the dot product is : 1.4210854715202004e-14\r\n"
     ]
    }
   ],
   "source": [
    "# enter command for compile and run the program\n",
    "!mpirun -n 2 python3 MatrixVectorMult_V0.py"
   ]
  },
  {
   "cell_type": "markdown",
   "id": "941442b9",
   "metadata": {},
   "source": [
    "## Exercise 5 Calculation of π (Monte Carlo)\n",
    "\n",
    "1. Use the `PiMonteCarlo.py` file to implement the calculation of PI using Monte Carlo.\n",
    "2. Process 0 prints the result.\n",
    "3. Plot the scalability of your implementation. "
   ]
  },
  {
   "cell_type": "code",
   "execution_count": 31,
   "id": "91253c4d",
   "metadata": {},
   "outputs": [
    {
     "name": "stdout",
     "output_type": "stream",
     "text": [
      "Overwriting PiMonteCarlo_V0.py\n"
     ]
    }
   ],
   "source": [
    "%%file PiMonteCarlo_V0.py\n",
    "# write your program here\n",
    "import random \n",
    "import timeit\n",
    "from mpi4py import MPI\n",
    "\n",
    "\n",
    "COMM = MPI.COMM_WORLD\n",
    "nbproc = COMM.Get_size()\n",
    "RANK = COMM.Get_rank()\n",
    "\n",
    "INTERVAL = 1000 ** 2\n",
    "\n",
    "local_int = INTERVAL //nbproc \n",
    "random.seed(42)  \n",
    "\n",
    "def gen_points():\n",
    "     \n",
    "    \n",
    "    nbpoints= 0\n",
    "\n",
    "    \n",
    "    for i in range(local_int): \n",
    "      \n",
    "        # on choisit de générer les points x et y \n",
    "        # suivant une loi uniforme sur [0,2]\n",
    "                \n",
    "        x= random.uniform(0, 2) \n",
    "        y= random.uniform(0, 2) \n",
    "      \n",
    "        # Distance entre chaque point (x, y) et le centre du cercle O(1,1)\n",
    "        dist_centre= (x - 1)**2 + (y - 1)**2\n",
    "      \n",
    "        # on vérifie si (x, y) est à l'intérieur du cercle \n",
    "        if dist_centre<= 1: \n",
    "            nbpoints+= 1\n",
    "    \n",
    "    return nbpoints\n",
    "\n",
    "\n",
    "start = timeit.default_timer()\n",
    "nb_points = gen_points()\n",
    "end = timeit.default_timer()\n",
    "\n",
    "# on fait la somme de tous les points obtenus au niveau de chaque processus\n",
    "nb_points = COMM.reduce(nb_points, op = MPI.SUM, root = 0)\n",
    "if RANK == 0:\n",
    "    \n",
    "    pi = 4 * nb_points/ INTERVAL\n",
    "    print('\\n')\n",
    "    print(\"Circle points number :\",nb_points)\n",
    "    print(\"Final Estimation of Pi=\", pi, \"cpu time :\",(end-start) * 1000) \n"
   ]
  },
  {
   "cell_type": "code",
   "execution_count": 32,
   "id": "badf58e2",
   "metadata": {},
   "outputs": [
    {
     "name": "stdout",
     "output_type": "stream",
     "text": [
      "\r\n",
      "\r\n",
      "Circle points number : 785596\r\n",
      "Final Estimation of Pi= 3.142384 cpu time : 491.70347600011155\r\n"
     ]
    }
   ],
   "source": [
    "# enter command for compile and run the program\n",
    "\n",
    "# enter command for compile and run the program\n",
    "!mpirun -n 2 python3 PiMonteCarlo_V0.py"
   ]
  },
  {
   "cell_type": "code",
   "execution_count": null,
   "id": "bc91e516",
   "metadata": {},
   "outputs": [],
   "source": []
  }
 ],
 "metadata": {
  "hide_input": false,
  "kernelspec": {
   "display_name": "Python 3 (ipykernel)",
   "language": "python",
   "name": "python3"
  },
  "language_info": {
   "codemirror_mode": {
    "name": "ipython",
    "version": 3
   },
   "file_extension": ".py",
   "mimetype": "text/x-python",
   "name": "python",
   "nbconvert_exporter": "python",
   "pygments_lexer": "ipython3",
   "version": "3.8.10"
  }
 },
 "nbformat": 4,
 "nbformat_minor": 5
}
