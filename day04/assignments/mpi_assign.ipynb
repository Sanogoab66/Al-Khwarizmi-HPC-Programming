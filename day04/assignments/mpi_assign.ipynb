{
 "cells": [
  {
   "cell_type": "markdown",
   "id": "dae8c4a2",
   "metadata": {},
   "source": [
    "## Exercise 1 Hello World\n",
    "\n",
    "1. Write an MPI program displaying the number of processes used for the execution and the rank of each process.\n",
    "2. Test the programs obtained with different numbers of threads for the parallel program.\n",
    "\n",
    "**Output Example**\n",
    "```shell\n",
    "Hello from the rank 2 process\n",
    "Hello from the rank 0 process\n",
    "Hello from the rank 3 process\n",
    "Hello from the rank 1 process\n",
    "Parallel execution of hello_world with 4 process\n",
    "```\n",
    "*Note that the output order maybe different*"
   ]
  },
  {
   "cell_type": "code",
   "execution_count": 2,
   "id": "4ef7e581",
   "metadata": {},
   "outputs": [
    {
     "name": "stdout",
     "output_type": "stream",
     "text": [
      "Overwriting hello.py\n"
     ]
    }
   ],
   "source": [
    " %%file hello.py\n",
    " # write your program here\n",
    "\n",
    "from mpi4py import MPI\n",
    "comm=MPI.COMM_WORLD()\n",
    "taille=COMM.Get_size()\n",
    "rank=COMM.Get_rank()\n",
    "print(f'Hello from the rank {rank} process')\n",
    "print(f'Parallel execution of hello_world with {taille} process')"
   ]
  },
  {
   "cell_type": "code",
   "execution_count": 7,
   "id": "bac76c8e",
   "metadata": {},
   "outputs": [
    {
     "name": "stdout",
     "output_type": "stream",
     "text": [
      "Traceback (most recent call last):\n",
      "  File \"hello.py\", line 3, in <module>\n",
      "    from mpi4py import MPI\n",
      "ModuleNotFoundError: No module named 'mpi4py'\n",
      "Traceback (most recent call last):\n",
      "  File \"hello.py\", line 3, in <module>\n",
      "    from mpi4py import MPI\n",
      "ModuleNotFoundError: No module named 'mpi4py'\n",
      "--------------------------------------------------------------------------\n",
      "Primary job  terminated normally, but 1 process returned\n",
      "a non-zero exit code. Per user-direction, the job has been aborted.\n",
      "--------------------------------------------------------------------------\n",
      "--------------------------------------------------------------------------\n",
      "mpirun detected that one or more processes exited with non-zero status, thus causing\n",
      "the job to be terminated. The first process to do so was:\n",
      "\n",
      "  Process name: [[6277,1],0]\n",
      "  Exit code:    1\n",
      "--------------------------------------------------------------------------\n"
     ]
    }
   ],
   "source": [
    "# enter command for compile and run the program\n",
    "!mpirun -n 2 python hello.py"
   ]
  },
  {
   "cell_type": "markdown",
   "id": "ebddd204",
   "metadata": {},
   "source": [
    "## Exercise 2 Sharing Data \n",
    "\n",
    "A common need is for one process to get data from the user, either by reading from the terminal or command line arguments, and then to distribute this information to all other processors.\n",
    "\n",
    "Write a program that reads an integer value from the terminal and distributes the value to all of the MPI processes. Each process should print out its rank and the value it received. Values should be read until a negative integer is given as input.\n",
    "\n",
    "You may want to use these MPI routines in your solution:\n",
    "`Get_rank` `Bcast` \n",
    "\n",
    "**Output Example**\n",
    "```shell\n",
    "10\n",
    "Process 0 got 10\n",
    "Process 1 got 10\n",
    "```"
   ]
  },
  {
   "cell_type": "code",
   "execution_count": 6,
   "id": "c2526456",
   "metadata": {},
   "outputs": [
    {
     "name": "stdout",
     "output_type": "stream",
     "text": [
      "Writing sharing.py\n"
     ]
    }
   ],
   "source": [
    " %%file sharing.py\n",
    " # write your program here"
   ]
  },
  {
   "cell_type": "code",
   "execution_count": null,
   "id": "09b05957",
   "metadata": {},
   "outputs": [],
   "source": [
    "# enter command for compile and run the program"
   ]
  },
  {
   "cell_type": "markdown",
   "id": "2dff4e05",
   "metadata": {},
   "source": [
    "## Exercise 3 Sending in a ring (broadcast by ring)\n",
    "\n",
    "Write a program that takes data from process zero and sends it to all of the other processes by sending it in a ring. That is, process i should receive the data and send it to process i+1, until the last process is reached.\n",
    "Assume that the data consists of a single integer. Process zero reads the data from the user.\n",
    "![](../data/ring.gif)\n",
    "\n",
    "You may want to use these MPI routines in your solution:\n",
    "`Send` `Recv` "
   ]
  },
  {
   "cell_type": "markdown",
   "id": "03907b1e",
   "metadata": {},
   "source": [
    "## Exercise 4 Matrix vector product\n",
    "\n",
    "1. Use the `MatrixVectorMult.py` file to implement the MPI version of matrix vector multiplication.\n",
    "2. Process 0 compares the result with the `dot` product.\n",
    "3. Plot the scalability of your implementation. \n",
    "\n",
    "**Output Example**\n",
    "```shell\n",
    "CPU time of parallel multiplication using 2 processes is  174.923446\n",
    "The error comparing to the dot product is : 1.4210854715202004e-14\n",
    "```"
   ]
  },
  {
   "cell_type": "code",
   "execution_count": 5,
   "id": "2b2a95e0",
   "metadata": {},
   "outputs": [
    {
     "name": "stdout",
     "output_type": "stream",
     "text": [
      "Writing MatrixVectorMult_V0.py\n"
     ]
    }
   ],
   "source": [
    " %%file MatrixVectorMult_V0.py\n",
    " # write your program here"
   ]
  },
  {
   "cell_type": "code",
   "execution_count": null,
   "id": "b25f89a6",
   "metadata": {},
   "outputs": [],
   "source": [
    "# enter command for compile and run the program"
   ]
  },
  {
   "cell_type": "markdown",
   "id": "941442b9",
   "metadata": {},
   "source": [
    "## Exercise 5 Calculation of π (Monte Carlo)\n",
    "\n",
    "1. Use the `PiMonteCarlo.py` file to implement the calculation of PI using Monte Carlo.\n",
    "2. Process 0 prints the result.\n",
    "3. Plot the scalability of your implementation. "
   ]
  },
  {
   "cell_type": "code",
   "execution_count": null,
   "id": "91253c4d",
   "metadata": {},
   "outputs": [],
   "source": [
    " %%file PiMonteCarlo_V0.py\n",
    " # write your program here"
   ]
  },
  {
   "cell_type": "code",
   "execution_count": null,
   "id": "badf58e2",
   "metadata": {},
   "outputs": [],
   "source": [
    "# enter command for compile and run the program"
   ]
  }
 ],
 "metadata": {
  "hide_input": false,
  "kernelspec": {
   "display_name": "Python 3 (ipykernel)",
   "language": "python",
   "name": "python3"
  },
  "language_info": {
   "codemirror_mode": {
    "name": "ipython",
    "version": 3
   },
   "file_extension": ".py",
   "mimetype": "text/x-python",
   "name": "python",
   "nbconvert_exporter": "python",
   "pygments_lexer": "ipython3",
   "version": "3.8.10"
  }
 },
 "nbformat": 4,
 "nbformat_minor": 5
}
