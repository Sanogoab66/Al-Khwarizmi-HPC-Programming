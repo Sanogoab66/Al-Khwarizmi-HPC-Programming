{
 "cells": [
  {
   "cell_type": "markdown",
   "id": "f70d89c5",
   "metadata": {},
   "source": [
    "<h1 align=\"center\">Python performance exercises</h1>"
   ]
  },
  {
   "cell_type": "markdown",
   "id": "b73f658f",
   "metadata": {},
   "source": [
    "## Python best practices exercises"
   ]
  },
  {
   "cell_type": "markdown",
   "id": "c5d1a3dc",
   "metadata": {},
   "source": [
    "### Exercise 1\n",
    "\n",
    "considering the following function for concatenating list strings with deliter."
   ]
  },
  {
   "cell_type": "code",
   "execution_count": 1,
   "id": "6afb1b12",
   "metadata": {},
   "outputs": [],
   "source": [
    "def ft_concatenate(l_strings, d):\n",
    "    \"\"\"concatenate list of strings into one string separated by delimeter\"\"\"\n",
    "    res = l_strings[0]\n",
    "    for e in l_strings[1:]:\n",
    "        res = res + d + e\n",
    "    return res"
   ]
  },
  {
   "cell_type": "markdown",
   "id": "ac1a6004",
   "metadata": {},
   "source": [
    "- profile the function and identify the bottlenecks.\n",
    "- improve speed up of the function\n",
    "*Hint: you may need to look to the string functions in python documentation*"
   ]
  },
  {
   "cell_type": "code",
   "execution_count": 137,
   "id": "9569d9bd",
   "metadata": {},
   "outputs": [
    {
     "name": "stdout",
     "output_type": "stream",
     "text": [
      "The line_profiler extension is already loaded. To reload it, use:\n",
      "  %reload_ext line_profiler\n"
     ]
    }
   ],
   "source": [
    "# write your code here\n",
    "\n",
    "%load_ext line_profiler\n",
    "l=\"bonjour\"\n",
    "%lprun -f ft_concatenate ft_concatenate(l,'h')\n",
    "\n",
    "\n",
    "\n",
    "\n"
   ]
  },
  {
   "cell_type": "code",
   "execution_count": 144,
   "id": "1f40468a",
   "metadata": {},
   "outputs": [
    {
     "ename": "SyntaxError",
     "evalue": "invalid syntax (2754442377.py, line 1)",
     "output_type": "error",
     "traceback": [
      "\u001b[0;36m  File \u001b[0;32m\"/tmp/ipykernel_50394/2754442377.py\"\u001b[0;36m, line \u001b[0;32m1\u001b[0m\n\u001b[0;31m    cpdef ft_concatenate(str l_strings, str d):\u001b[0m\n\u001b[0m          ^\u001b[0m\n\u001b[0;31mSyntaxError\u001b[0m\u001b[0;31m:\u001b[0m invalid syntax\n"
     ]
    }
   ],
   "source": [
    "\n",
    "cpdef ft_concatenate(str l_strings, str d):\n",
    "    cpdef str l_strings\n",
    "    cpdef str d\n",
    "    \"\"\"concatenate list of strings into one string separated by delimeter\"\"\"\n",
    "    res = l_strings[0]\n",
    "    for e in l_strings[1:]:\n",
    "        res = res + d + e\n",
    "    return res"
   ]
  },
  {
   "cell_type": "markdown",
   "id": "a37f59e7",
   "metadata": {},
   "source": [
    "### Exercise 2\n",
    "\n",
    "In this exercise you will solve the following problem using two methods bruteforce mehode, and fast method.\n",
    "\n",
    "**Problem:** You are given a list of n integers, and your task is to calculate the number of distinct values in the list.\n",
    "\n",
    "**Example**\n",
    "- Input:\n",
    "5\n",
    "2 3 2 2 3\n",
    "\n",
    "- Output:\n",
    "2\n",
    "\n",
    "**Implement the following methodes:**\n",
    "\n",
    "1. **bruteforce mehode:** create an empty list and start adding items for the given list without adding the previous item add, at the end the result list will contain unique values, print lenght of the list and you are done. \n",
    "2. **fast method** think of using Set data structure.\n",
    "\n",
    "- time the two methods, what do you think?"
   ]
  },
  {
   "cell_type": "code",
   "execution_count": 80,
   "id": "da8e5f4d",
   "metadata": {},
   "outputs": [],
   "source": [
    "# bruteforce fast method\n",
    "def bruteforce(l):\n",
    "    new=[]\n",
    "    new.append(l[0])\n",
    "    for i in range(1,len(l)):\n",
    "        t=0\n",
    "        for k in range(len(new)):\n",
    "            if l[i]==new[k]:\n",
    "                t=1\n",
    "        if t==0:\n",
    "            new.append(l[i])\n",
    "    return len(new)   \n",
    "            \n",
    "        "
   ]
  },
  {
   "cell_type": "code",
   "execution_count": 81,
   "id": "25564538",
   "metadata": {},
   "outputs": [],
   "source": [
    "# write fast method\n",
    "\n",
    "def fast(l):\n",
    "    return len(set(l))   \n",
    "            \n"
   ]
  },
  {
   "cell_type": "code",
   "execution_count": 82,
   "id": "098c810b",
   "metadata": {
    "scrolled": false
   },
   "outputs": [
    {
     "name": "stdout",
     "output_type": "stream",
     "text": [
      "10.7 µs ± 140 ns per loop (mean ± std. dev. of 7 runs, 100000 loops each)\n",
      "2.4 µs ± 112 ns per loop (mean ± std. dev. of 7 runs, 100000 loops each)\n"
     ]
    }
   ],
   "source": [
    "# Creat two random lists of numbers for testing\n",
    "import numpy as np\n",
    "\n",
    "l=np.random.randint(low = 3,high=8,size=10)\n",
    "\n",
    "# time the two methods\n",
    "\n",
    "%timeit bruteforce(l)\n",
    "%timeit fast(l)"
   ]
  },
  {
   "cell_type": "markdown",
   "id": "5a68762d",
   "metadata": {},
   "source": [
    "## Cython exercises"
   ]
  },
  {
   "cell_type": "markdown",
   "id": "ba8d100f",
   "metadata": {},
   "source": [
    "### Exercise 1"
   ]
  },
  {
   "cell_type": "markdown",
   "id": "a5cf5018",
   "metadata": {},
   "source": [
    "1. load the cython extension."
   ]
  },
  {
   "cell_type": "code",
   "execution_count": 121,
   "id": "0910c268",
   "metadata": {},
   "outputs": [
    {
     "name": "stdout",
     "output_type": "stream",
     "text": [
      "The cython extension is already loaded. To reload it, use:\n",
      "  %reload_ext cython\n"
     ]
    }
   ],
   "source": [
    "%load_ext cython"
   ]
  },
  {
   "cell_type": "markdown",
   "id": "75576b84",
   "metadata": {},
   "source": [
    "2. Condidering the following polynome function:"
   ]
  },
  {
   "cell_type": "code",
   "execution_count": 107,
   "id": "d63e62d1",
   "metadata": {},
   "outputs": [],
   "source": [
    "def poly(a,b):\n",
    "    return 10.5 * a + 3 * (b**2)"
   ]
  },
  {
   "cell_type": "markdown",
   "id": "b2da1a74",
   "metadata": {},
   "source": [
    "- Create an equivalent Cython function of `poly` with name `poly_cy` without any cython improvement, just make its cell a cython cell."
   ]
  },
  {
   "cell_type": "markdown",
   "id": "779058dc",
   "metadata": {},
   "source": [
    "\n"
   ]
  },
  {
   "cell_type": "markdown",
   "id": "0cf47dbe",
   "metadata": {},
   "source": [
    "3. time the performance of Python and Cython version of the function, what is the factor of speed up here between the two verions."
   ]
  },
  {
   "cell_type": "code",
   "execution_count": 146,
   "id": "824387d6",
   "metadata": {},
   "outputs": [
    {
     "name": "stdout",
     "output_type": "stream",
     "text": [
      "333 ns ± 5.68 ns per loop (mean ± std. dev. of 7 runs, 1000000 loops each)\n",
      "348 ns ± 15.8 ns per loop (mean ± std. dev. of 7 runs, 1000000 loops each)\n"
     ]
    }
   ],
   "source": [
    "# write your code here\n",
    "\n",
    "%%cython -a\n",
    "\n",
    "def poly_cy(a,b):\n",
    "    return 10.5 * a + 3 * (b**2)\n",
    "\n",
    "\n",
    "%timeit poly(1,3)\n",
    "%timeit poly_cy(1,3)"
   ]
  },
  {
   "cell_type": "markdown",
   "id": "c7bae861",
   "metadata": {},
   "source": [
    "4. Now lets work on another examples using loop.\n",
    "    - rewrite the same function below fib that calculate fibonacci series using cython, but now try to add type for the variables used inside it, add a prefix `_cy` to your new cython function."
   ]
  },
  {
   "cell_type": "code",
   "execution_count": 8,
   "id": "6b4e1cc5",
   "metadata": {},
   "outputs": [],
   "source": [
    "def fib(n):\n",
    "    a, b = 1, 1\n",
    "    for i in range(n):\n",
    "        a, b = a + b, a\n",
    "\n",
    "    return a"
   ]
  },
  {
   "cell_type": "code",
   "execution_count": 161,
   "id": "0633e1f6",
   "metadata": {},
   "outputs": [],
   "source": [
    "import warnings \n",
    "warnings.filterwarnings('ignore')\n",
    "\n"
   ]
  },
  {
   "cell_type": "code",
   "execution_count": 170,
   "id": "598e7014",
   "metadata": {},
   "outputs": [
    {
     "ename": "SyntaxError",
     "evalue": "invalid syntax (746641220.py, line 5)",
     "output_type": "error",
     "traceback": [
      "\u001b[0;36m  File \u001b[0;32m\"/tmp/ipykernel_50394/746641220.py\"\u001b[0;36m, line \u001b[0;32m5\u001b[0m\n\u001b[0;31m    def fib_cy(int n):\u001b[0m\n\u001b[0m                   ^\u001b[0m\n\u001b[0;31mSyntaxError\u001b[0m\u001b[0;31m:\u001b[0m invalid syntax\n"
     ]
    }
   ],
   "source": [
    "# write your code here\n",
    "\n",
    "%%cython -a\n",
    "\n",
    "def fib_cy(int n):\n",
    "    cdef int a,b\n",
    "    cdef int i \n",
    "    a, b = 1, 1\n",
    "    for i in range(n):\n",
    "        a, b = a + b, a\n",
    "    return a"
   ]
  },
  {
   "cell_type": "markdown",
   "id": "99c71881",
   "metadata": {},
   "source": [
    "- time the two function for fibonacci series, with n = 20, what is the factor of speed now, What do you think?"
   ]
  },
  {
   "cell_type": "code",
   "execution_count": 10,
   "id": "31fbf30b",
   "metadata": {},
   "outputs": [],
   "source": [
    "# write your code here\n",
    "\n",
    "%timeit fib(20)\n",
    "%timeit fib_cy(20)"
   ]
  },
  {
   "cell_type": "markdown",
   "id": "8b57f304",
   "metadata": {},
   "source": [
    "5. Recursive functions are functions that call themselves during their execution. Another interesting property of the Fibonacci series is that it can be written as a recursive function. That’s because each item depends on the values of other items (namely item n-1 and item n-2)\n",
    "\n",
    "- Rewrite the fib function using recursion. Is it faster than the non-recursive version? Does Cythonizing it give even more of an advantage? "
   ]
  },
  {
   "cell_type": "code",
   "execution_count": 135,
   "id": "2fa18c9d",
   "metadata": {},
   "outputs": [],
   "source": [
    "# write your code here\n",
    "\n",
    "def f(n,a,b):\n",
    "    if n==1:\n",
    "        return a+b\n",
    "    else:\n",
    "        return f(n-1,a+b,a)\n",
    "\n",
    "def fibr(n):\n",
    "    if n==0:\n",
    "        return 1\n",
    "    else:\n",
    "        return f(n,1,1)\n",
    "\n",
    "    \n",
    "    \n",
    "%%cython -a\n",
    "\n",
    "def f_cy(int n,int a,int b):\n",
    "    if n==1:\n",
    "        return a+b\n",
    "    else:\n",
    "        return f_cy(n-1,a+b,a)\n",
    "\n",
    "def fibr_cy(int n):\n",
    "    if n==0:\n",
    "        return 1\n",
    "    else:\n",
    "        return f_cy(n,1,1)\n",
    "   \n",
    "     \n"
   ]
  },
  {
   "cell_type": "markdown",
   "id": "e2c5667c",
   "metadata": {},
   "source": [
    "### Exercise 2\n",
    "\n",
    "- Monte Carlo methods are a broad class of computational algorithms that rely on repeated random sampling to obtain numerical results. \n",
    "- One of the basic examples of getting started with the Monte Carlo algorithm is the estimation of Pi.\n",
    "\n",
    "**Estimation of Pi**\n",
    "\n",
    "- The idea is to simulate random (x, y) points in a 2-D plane with domain as a square of side 1 unit. \n",
    "- Imagine a circle inside the same domain with same diameter and inscribed into the square. \n",
    "- We then calculate the ratio of number points that lied inside the circle and total number of generated points. \n",
    "- Refer to the image below:\n",
    "\n",
    "![demo](../data/MonteCarloPlot.png)\n",
    "\n",
    "We know that area of the square is 1 unit sq while that of circle is $\\pi \\ast  (\\frac{1}{2})^{2} = \\frac{\\pi}{4}$. Now for a very large number of generated points,\n",
    "\n",
    "![demo](../data/MonteCarloCalc.png)\n",
    "\n",
    "\n",
    "## The Algorithm\n",
    "\n",
    "1. Initialize cile_points, square_points and interval to 0.\n",
    "2. Generate random point x.\n",
    "3. Generate random point y.\n",
    "4. Calculate d = x*x + y*y.\n",
    "5. If d <= 1, increment circle_points.\n",
    "6. Increment square_points.\n",
    "7. Increment interval.\n",
    "8. If increment < NO_OF_ITERATIONS, repeat from 2.\n",
    "9. Calculate pi = 4*(circle_points/square_points).\n",
    "10. Terminate."
   ]
  },
  {
   "cell_type": "markdown",
   "id": "aac70cef",
   "metadata": {},
   "source": [
    "**Your mission:** time the function `monte_carlo_pi`, identify the bottlenecks and create a new version using cython functionality to speed up monte carlo simulation for PI, use 100,000 points and compare the speed up factor between python and cython, considering the following optimizations:\n",
    "- add type for variables used.\n",
    "- add type for the function\n",
    "- use c rand function instead of python rand function.\n",
    " \n",
    "*Hint: you can import function from C libraries using the following approach `from libc.<name of c library> cimport <library function name>`, replace the holders `<>` with the right identities for the current problem*"
   ]
  },
  {
   "cell_type": "code",
   "execution_count": 176,
   "id": "e0c2032b",
   "metadata": {},
   "outputs": [],
   "source": [
    "import random\n",
    "def monte_carlo_pi(nsamples):\n",
    "    pi = 0.\n",
    "   # Implement your code here\n",
    "    circle_points, square_points,interval = 0,0,0\n",
    "    while interval< nsamples:\n",
    "        x=np.random.rand()\n",
    "        y=np.random.rand()\n",
    "        d=x**2+y**2\n",
    "        if d<=1:\n",
    "            circle_points+=1\n",
    "        square_points+=1\n",
    "        interval+=1\n",
    "    pi=4*(circle_points/square_points)  \n",
    "    return pi"
   ]
  },
  {
   "cell_type": "code",
   "execution_count": 233,
   "id": "47c24905",
   "metadata": {},
   "outputs": [
    {
     "data": {
      "text/plain": [
       "3.144716"
      ]
     },
     "execution_count": 233,
     "metadata": {},
     "output_type": "execute_result"
    }
   ],
   "source": [
    "monte_carlo_pi(1000000)"
   ]
  },
  {
   "cell_type": "code",
   "execution_count": 237,
   "id": "f4c978fa",
   "metadata": {},
   "outputs": [],
   "source": [
    "#  cython function\n",
    "%%cython -a\n",
    "\n",
    "from libc.stdlib cimport rand\n",
    "cdef extern from \"limits.h\":\n",
    "cpdef float monte_carlo_pi_cy(int nsamples):\n",
    "    cdef int nsamples\n",
    "    cdef float pi = 0.\n",
    "  # Implement your code here\n",
    "    cdef int circle_points, square_points,interval = 0,0,0\n",
    "    while interval< nsamples:\n",
    "        x=rand()\n",
    "        y=rand()\n",
    "        d=x**2+y**2\n",
    "        if d<=1:\n",
    "            circle_points+=1\n",
    "        square_points+=1\n",
    "        interval+=1\n",
    "        pi=4*(circle_points/square_points)  \n",
    "    return pi\n"
   ]
  },
  {
   "cell_type": "markdown",
   "id": "926e2caf",
   "metadata": {},
   "source": [
    "## Numba exercises"
   ]
  },
  {
   "cell_type": "markdown",
   "id": "6e3f0db2",
   "metadata": {},
   "source": [
    "### Exercise 1\n",
    "\n",
    "Previously we considered how to approximateby Monte Carlo.\n",
    "\n",
    "- Use the same idea here, but make the code efficient using Numba.\n",
    "- Compare speed with and without Numba when the sample size is large."
   ]
  },
  {
   "cell_type": "code",
   "execution_count": 13,
   "id": "2b4c07b8",
   "metadata": {},
   "outputs": [],
   "source": [
    "# Your code here"
   ]
  },
  {
   "cell_type": "markdown",
   "id": "80b2dfc0",
   "metadata": {},
   "source": [
    "## Pyccel Exercises"
   ]
  },
  {
   "cell_type": "markdown",
   "id": "110bb770",
   "metadata": {},
   "source": [
    "### Exercise 1\n",
    "\n",
    "considering the following algorithm for binomial coefficient implementation in python.\n",
    "```python\n",
    "def factorial(n : int) -> int:\n",
    "    # to be implemented\n",
    "\n",
    "def binomial_coefficient(n : int, k : int):\n",
    "    num = factorial(n)\n",
    "    den = factorial(k) * factorial(n - k)\n",
    "    return num // den\n",
    "```\n",
    "1. complete the factorial function using recursive methode.\n",
    "2. profile the `binomial_coefficient`.\n",
    "3. try to improve factorial function by using iterative method.\n",
    "4. Use pyccel to accelerate the function.\n",
    "5. compare the benchmark of the two version python vs pyccel."
   ]
  },
  {
   "cell_type": "code",
   "execution_count": 1,
   "id": "6aa7a553",
   "metadata": {},
   "outputs": [],
   "source": [
    "# write your code here"
   ]
  }
 ],
 "metadata": {
  "hide_input": false,
  "kernelspec": {
   "display_name": "Python 3 (ipykernel)",
   "language": "python",
   "name": "python3"
  },
  "language_info": {
   "codemirror_mode": {
    "name": "ipython",
    "version": 3
   },
   "file_extension": ".py",
   "mimetype": "text/x-python",
   "name": "python",
   "nbconvert_exporter": "python",
   "pygments_lexer": "ipython3",
   "version": "3.8.10"
  }
 },
 "nbformat": 4,
 "nbformat_minor": 5
}
