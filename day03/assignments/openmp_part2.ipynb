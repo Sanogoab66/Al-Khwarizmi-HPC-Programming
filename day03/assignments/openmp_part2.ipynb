{
 "cells": [
  {
   "cell_type": "markdown",
   "id": "b540fda2",
   "metadata": {},
   "source": [
    "<h1 align=\"center\">OpenMP part 2</h1> "
   ]
  },
  {
   "cell_type": "markdown",
   "id": "52c638b8",
   "metadata": {},
   "source": [
    "## Exercise 1:\n",
    "\n",
    "Using your code 2D non linear convection equation from the `numba_pyccel_assignments`:\n",
    "1. Parallelize the 2D non linear convection equation\n",
    "2. Compare cpu time using different number of threads (Plot a figure of cpu time according to number of threads)"
   ]
  },
  {
   "cell_type": "code",
   "execution_count": 1,
   "id": "6ae92f58",
   "metadata": {},
   "outputs": [],
   "source": [
    "# write your code here\n",
    "\n",
    "def solve_2d_nonlinearconv_pyccel(u:'float[:,:]', un:'float[:,:]', v:'float[:,:]', vn:'float[:,:]', nt:'int', dt:'float', dx:'float', dy:'float',c:'int',k:'int'):\n",
    "\n",
    "    ###Assign initial conditions\n",
    "    ##set hat function I.C. : u(.5<=x<=1 && .5<=y<=1 ) is 2\n",
    "    u[int(.5 / dy):int(1 / dy + 1), int(.5 / dx):int(1 / dx + 1)] = 2\n",
    "    ##set hat function I.C. : v(.5<=x<=1 && .5<=y<=1 ) is 2\n",
    "    v[int(.5 / dy):int(1 / dy + 1), int(.5 / dx):int(1 / dx + 1)] = 2\n",
    "    row, col = u.shape\n",
    "    \n",
    "    #fill the update of u and v\n",
    "    from pyccel.stdlib.internal.openmp  import omp_get_thread_num,omp_set_num_threads,omp_get_num_threads\n",
    "    #$ omp parallel\n",
    "    omp_set_num_threads(k)\n",
    "    #$ omp for \n",
    "    for t in range(nt):\n",
    "        un[:,:]=u[:,:]\n",
    "        vn[:,:]=v[:,:]\n",
    "        # mise a jour       \n",
    "        for i in range(1,row-1):\n",
    "            for j in range(1,col-1):\n",
    "                u[i,j]=un[i,j]- un[i,j]*(dt/dx)*(un[i,j]-un[i-1,j]) - vn[i,j]*(dt/dy)*(un[i,j]-un[i,j-1]) \n",
    "                v[i,j]=vn[i,j]- un[i,j]*(dt/dx)*(vn[i,j]-vn[i-1,j]) - vn[i,j]*(dt/dy)*(vn[i,j]-vn[i,j-1]) \n",
    "     \n",
    "    #$ omp end parallel    \n",
    "    return 0\n"
   ]
  },
  {
   "cell_type": "code",
   "execution_count": 4,
   "id": "a346ce63",
   "metadata": {},
   "outputs": [],
   "source": [
    "from pyccel.epyccel import epyccel\n",
    "from pyccel.decorators import types\n",
    "\n",
    "f1=epyccel(solve_2d_nonlinearconv_pyccel)\n",
    "import timeit \n",
    "\n",
    "\n",
    "\n"
   ]
  },
  {
   "cell_type": "markdown",
   "id": "b48c863d",
   "metadata": {},
   "source": [
    "## Exercise 2:\n",
    "\n",
    "Using your code Navier Stokes equation from the `numba_pyccel_assignments`:\n",
    "1. Pyccelize the Navier Stokes equation (if it's not done).\n",
    "2. Parallelize it using OpenMP.\n",
    "3. Compare cpu time using different number of threads (Plot a figure of cpu time according to number of threads)"
   ]
  },
  {
   "cell_type": "code",
   "execution_count": 1,
   "id": "adf7e292",
   "metadata": {},
   "outputs": [],
   "source": [
    "# write your code here\n",
    "\n"
   ]
  }
 ],
 "metadata": {
  "kernelspec": {
   "display_name": "Python 3 (ipykernel)",
   "language": "python",
   "name": "python3"
  },
  "language_info": {
   "codemirror_mode": {
    "name": "ipython",
    "version": 3
   },
   "file_extension": ".py",
   "mimetype": "text/x-python",
   "name": "python",
   "nbconvert_exporter": "python",
   "pygments_lexer": "ipython3",
   "version": "3.8.10"
  }
 },
 "nbformat": 4,
 "nbformat_minor": 5
}
